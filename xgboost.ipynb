{
 "cells": [
  {
   "cell_type": "markdown",
   "id": "0652f264-b2c3-43b2-9310-7c00e50e7cdc",
   "metadata": {},
   "source": [
    "# Training models with XGBoost, Optuna, and Dask\n",
    "\n"
   ]
  },
  {
   "cell_type": "code",
   "execution_count": null,
   "id": "3b929987-5089-4c13-be35-c1812d65fbec",
   "metadata": {},
   "outputs": [],
   "source": [
    "import datetime\n",
    "import joblib\n",
    "import uuid\n",
    "\n",
    "from distributed import Client, wait\n",
    "import dask.dataframe as dd\n",
    "import coiled\n",
    "\n",
    "import dask\n",
    "import numpy as np\n",
    "import pandas as pd\n",
    "import optuna\n",
    "from dask_ml.metrics import mean_squared_error as lazy_mse\n",
    "import xgboost as xgb\n",
    "from xgboost.dask import DaskDMatrix\n",
    "\n",
    "import dask.dataframe as dd\n",
    "from xgboost.core import XGBoostError"
   ]
  },
  {
   "cell_type": "markdown",
   "id": "d1f2f392-f148-43db-90c3-38c33c0bf0a0",
   "metadata": {},
   "source": [
    "## Start Cluster"
   ]
  },
  {
   "cell_type": "code",
   "execution_count": null,
   "id": "132568f4-ac1b-43ff-85fd-e5a5324a38a0",
   "metadata": {
    "scrolled": true,
    "tags": []
   },
   "outputs": [],
   "source": [
    "cluster = coiled.Cluster(\n",
    "    n_workers=10,\n",
    "    package_sync=True, # copy local packages\n",
    "    worker_vm_types=[\"m6i.4xlarge\"],\n",
    "    scheduler_vm_types=[\"m6i.2xlarge\"],\n",
    "    backend_options={\"region\": \"us-east-2\"},\n",
    ")"
   ]
  },
  {
   "cell_type": "code",
   "execution_count": null,
   "id": "e8e880bf-577b-4a99-824a-56f15bbe06e6",
   "metadata": {},
   "outputs": [],
   "source": [
    "client = Client(cluster)\n",
    "client"
   ]
  },
  {
   "cell_type": "markdown",
   "id": "1dd461c3-e551-420a-a3e1-1ca2515bb613",
   "metadata": {},
   "source": [
    "## Load Data\n",
    "\n",
    "1.  Load data from S3\n",
    "2.  Convert categorical data\n",
    "3.  Down-cast to `float32` for space-efficiency"
   ]
  },
  {
   "cell_type": "code",
   "execution_count": null,
   "id": "d445bf54-eb5c-4ce4-8bf8-fbde31beb289",
   "metadata": {},
   "outputs": [],
   "source": [
    "ddf = dd.read_parquet(\n",
    "    \"s3://coiled-datasets/prefect-dask/nyc-uber-lyft/feature_table.parquet\"\n",
    ").persist()\n",
    "\n",
    "categorical_vars = ddf.select_dtypes(include=\"category\").columns.tolist()\n",
    "ddf = ddf.categorize(columns=categorical_vars)\n",
    "\n",
    "float_cols = ddf.select_dtypes(include=\"float\").columns.tolist()\n",
    "ddf[float_cols] = ddf[float_cols].astype(np.float32)  # Under the hood, XGBoost converts floats to `float32`\n",
    "ddf = ddf.persist()  "
   ]
  },
  {
   "cell_type": "markdown",
   "id": "f66f5c4c-ba91-4984-a90d-0a50b6533123",
   "metadata": {},
   "source": [
    "## Train Model"
   ]
  },
  {
   "cell_type": "code",
   "execution_count": null,
   "id": "ff9a418f-a9f2-4a12-b61e-0021d3dd14ff",
   "metadata": {},
   "outputs": [],
   "source": [
    "def make_cv(df, num_folds):\n",
    "    frac = [1 / num_folds]*num_folds\n",
    "    splits = df.random_split(frac, shuffle=True)\n",
    "    for i in range(num_folds):\n",
    "        train = [splits[j] for j in range(num_folds) if j != i]\n",
    "        test = splits[i]\n",
    "        yield train, test\n",
    "\n",
    "        \n",
    "def train_model(trial_number, study_params, n_splits=2):        \n",
    "\n",
    "    scores = []\n",
    "\n",
    "    for train, test in make_cv(ddf, n_splits):\n",
    "        print(\"Starting run\")\n",
    "        start = datetime.datetime.now()\n",
    "        train = dd.concat(train)\n",
    "\n",
    "        try:\n",
    "            assert all(train[c].cat.known for c in categorical_vars)\n",
    "            assert all(test[c].cat.known for c in categorical_vars)\n",
    "        except Exception as e:\n",
    "            cluster.shutdown()\n",
    "            raise RuntimeError(f\"Categorical_vars are not known\")\n",
    "\n",
    "        y_train = train['trip_time'].to_frame().persist()\n",
    "        X_train = train.drop(columns=['trip_time']).persist()\n",
    "\n",
    "        # Make the test data\n",
    "        y_test = test['trip_time'].to_frame().persist()\n",
    "        X_test = test.drop(columns='trip_time').persist()\n",
    "\n",
    "        dtrain = DaskDMatrix(client, X_train, y_train, enable_categorical=True)\n",
    "\n",
    "        print(\"Training... \", end=\"\")\n",
    "        model = xgb.dask.train(\n",
    "            client,\n",
    "            {\n",
    "                'verbosity': 1,\n",
    "                'tree_method': 'hist', \n",
    "                \"objective\": \"reg:squarederror\",\n",
    "                **study_params,\n",
    "            },\n",
    "            dtrain,\n",
    "            num_boost_round=4,\n",
    "            evals=[(dtrain, \"train\")],\n",
    "        )\n",
    "\n",
    "        print(\"Predict... \", end=\"\")\n",
    "        predictions = xgb.dask.predict(client, model, X_test)\n",
    "\n",
    "        print(\"Scoring... \")\n",
    "        score = lazy_mse(\n",
    "            y_test.to_dask_array(lengths=True).reshape(-1,), \n",
    "            predictions.to_dask_array(lengths=True), squared=False,\n",
    "        )\n",
    "        wait(score)\n",
    "        scores.append(score)\n",
    "        print(f\"Scores:  {scores}\")\n",
    "        print(f\"Duration:  {datetime.datetime.now() - start} seconds\\n\")\n",
    "\n",
    "    return np.mean(scores)"
   ]
  },
  {
   "cell_type": "code",
   "execution_count": null,
   "id": "0250d23a-4d6c-4758-9200-f47a0a614bc1",
   "metadata": {},
   "outputs": [],
   "source": [
    "def objective(trial):\n",
    "    params = {\n",
    "        'n_estimators': trial.suggest_int('n_estimators', 50, 125),\n",
    "        'learning_rate': trial.suggest_float('learning_rate', 0.1, 0.9),\n",
    "        'subsample': trial.suggest_float('subsample', 0.1, 1),\n",
    "        'max_depth': trial.suggest_int('max_depth', 3, 9),\n",
    "        'colsample_bytree': trial.suggest_float('colsample_bytree', 0, 1),\n",
    "        'min_child_weight': trial.suggest_int('min_child_weight', 1, 3),\n",
    "        'colsample_bynode': trial.suggest_float('colsample_bynode', 0, 1),\n",
    "        'colsample_bylevel': trial.suggest_float('colsample_bylevel', 0, 1),\n",
    "        'reg_alpha': trial.suggest_float('reg_alpha', 0, 0.5),\n",
    "        'reg_lambda': trial.suggest_float('reg_lambda', 0, 1),\n",
    "    }\n",
    "    rmse = train_model(\n",
    "        trial_number=trial.number,\n",
    "        study_params=params, \n",
    "        n_splits=5,\n",
    "    )\n",
    "    return rmse"
   ]
  },
  {
   "cell_type": "code",
   "execution_count": null,
   "id": "f8f3b355-7e76-423f-8b4c-8e35eb1eb022",
   "metadata": {
    "scrolled": true,
    "tags": []
   },
   "outputs": [],
   "source": [
    "# Create a single study and run some trials\n",
    "\n",
    "study = optuna.create_study(study_name=\"nyc-travel-time-model\")\n",
    "study.optimize(objective, n_trials=5)"
   ]
  },
  {
   "cell_type": "code",
   "execution_count": null,
   "id": "2f913de4-9988-49d9-9b23-f5a90ecb9973",
   "metadata": {
    "scrolled": true,
    "tags": []
   },
   "outputs": [],
   "source": [
    "len(study.trials)"
   ]
  },
  {
   "cell_type": "code",
   "execution_count": null,
   "id": "ede5a2bf-c88c-4266-9738-73cb6fcb9d8f",
   "metadata": {},
   "outputs": [],
   "source": [
    "study.best_params"
   ]
  },
  {
   "cell_type": "code",
   "execution_count": null,
   "id": "22a6da34-582c-4e2d-9b58-89a5369d7536",
   "metadata": {},
   "outputs": [],
   "source": [
    "study.best_value"
   ]
  },
  {
   "cell_type": "code",
   "execution_count": null,
   "id": "e4928342-4749-4e29-bb65-ccabd8190a78",
   "metadata": {},
   "outputs": [],
   "source": [
    "study.best_trial"
   ]
  }
 ],
 "metadata": {
  "kernelspec": {
   "display_name": "Python 3 (ipykernel)",
   "language": "python",
   "name": "python3"
  },
  "language_info": {
   "codemirror_mode": {
    "name": "ipython",
    "version": 3
   },
   "file_extension": ".py",
   "mimetype": "text/x-python",
   "name": "python",
   "nbconvert_exporter": "python",
   "pygments_lexer": "ipython3",
   "version": "3.10.0"
  }
 },
 "nbformat": 4,
 "nbformat_minor": 5
}
