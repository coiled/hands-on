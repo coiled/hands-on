{
 "cells": [
  {
   "cell_type": "markdown",
   "id": "9c22a243-93a0-473c-95ba-a718baa2edf0",
   "metadata": {},
   "source": [
    "# Scaling, Performance, and Memory\n",
    "\n",
    "In this notebook we will work with a multi-machine cluster operating in the cloud.  We will do performance tuning on a workflow that enables interactie visualization, and learn about how to measure and improve performance in a distributed context.  We'll make some pretty images too.\n"
   ]
  },
  {
   "cell_type": "code",
   "execution_count": null,
   "id": "88977f3e-47f6-43c9-be83-5f7d21f55c12",
   "metadata": {},
   "outputs": [],
   "source": [
    "import datashader\n",
    "import dask\n",
    "import coiled"
   ]
  },
  {
   "cell_type": "markdown",
   "id": "9001ca7e-4d5d-4d90-b456-7c21429d8060",
   "metadata": {
    "tags": []
   },
   "source": [
    "## Request Dask Cluster\n",
    "\n",
    "There are many services to create Dask clusters in the cloud.  Today we'll use [Coiled](https://coiled.io).\n",
    "\n",
    "This should take a couple minutes."
   ]
  },
  {
   "cell_type": "code",
   "execution_count": null,
   "id": "0dc4c47f-0556-47e2-b9d1-c80b54a59041",
   "metadata": {},
   "outputs": [],
   "source": [
    "import coiled\n",
    "\n",
    "cluster = coiled.Cluster(\n",
    "    n_workers=10,\n",
    "    package_sync=True,\n",
    "    # account=\"...\",\n",
    ")\n",
    "\n",
    "from dask.distributed import Client, wait\n",
    "client = Client(cluster)\n",
    "\n",
    "client"
   ]
  },
  {
   "cell_type": "markdown",
   "id": "603fc653-34ed-4c77-a4a2-4bdd8337e523",
   "metadata": {},
   "source": [
    "## Include pickup and dropoff locations\n",
    "\n",
    "So far we've only been looking at one of these two datasets.  Now we'll look at both together. \n",
    "\n",
    "We now take all of our lessons learned to set this up for interactive scaling.  \n",
    "\n",
    "We'll be visualizing and interacting with 1+B points now.\n",
    "\n",
    "You don't need to do anything, just execute these cells and play at the bottom."
   ]
  },
  {
   "cell_type": "code",
   "execution_count": null,
   "id": "cea44db2-5f05-4941-97af-14bd6850a4fc",
   "metadata": {},
   "outputs": [],
   "source": [
    "# Read in one year of NYC Taxi data\n",
    "\n",
    "import dask.dataframe as dd\n",
    "\n",
    "df = dd.read_parquet(\n",
    "    \"s3://coiled-datasets/dask-book/nyc-tlc/2009\",\n",
    "    storage_options={\"anon\": True},\n",
    ")\n"
   ]
  },
  {
   "cell_type": "code",
   "execution_count": null,
   "id": "5c361e19-7e71-498a-964a-3d1addcf7caf",
   "metadata": {},
   "outputs": [],
   "source": [
    "df = df[[\"dropoff_longitude\", \"dropoff_latitude\", \"pickup_longitude\", \"pickup_latitude\"]]\n",
    "\n",
    "# clean data\n",
    "df = df.loc[\n",
    "    (df.dropoff_longitude > -74.1) & (df.dropoff_longitude < -73.7) & \n",
    "    (df.dropoff_latitude > 40.6) & (df.dropoff_latitude < 40.9) &\n",
    "    (df.pickup_longitude > -74.1) & (df.pickup_longitude < -73.7) &\n",
    "    (df.pickup_latitude > 40.6) & (df.pickup_latitude < 40.9)\n",
    "]\n"
   ]
  },
  {
   "cell_type": "code",
   "execution_count": null,
   "id": "1a0f9713-1787-4562-94c7-31f0ead12d59",
   "metadata": {},
   "outputs": [],
   "source": [
    "import pandas as pd\n",
    "\n",
    "\n",
    "df_dropoff = df[[\"dropoff_longitude\", \"dropoff_latitude\"]]\n",
    "df_dropoff[\"journey_type\"] = \"dropoff\"\n",
    "df_dropoff = df_dropoff.rename(columns={'dropoff_longitude': 'long', 'dropoff_latitude': 'lat'})\n",
    "df_pickup = df[[\"pickup_longitude\", \"pickup_latitude\"]]\n",
    "df_pickup[\"journey_type\"] = \"pickup\"\n",
    "df_pickup = df_pickup.rename(columns={'pickup_longitude': 'long', 'pickup_latitude': 'lat'})\n",
    "df = dd.concat([df_dropoff, df_pickup])\n",
    "\n",
    "pickup_dropoff = pd.CategoricalDtype(categories=[\"pickup\", \"dropoff\"])\n",
    "df = df.astype({\"journey_type\": pickup_dropoff})\n",
    "\n",
    "df = df.repartition(partition_size=\"256Mib\").persist()"
   ]
  },
  {
   "cell_type": "code",
   "execution_count": null,
   "id": "be5896c8-c9d7-4833-b4a1-fffa886d51c7",
   "metadata": {},
   "outputs": [],
   "source": [
    "import datashader\n",
    "import hvplot.dask\n",
    "import holoviews as hv\n",
    "hv.extension('bokeh')\n",
    "\n",
    "color_key = {'pickup': \"#e41a1c\", 'dropoff': \"#377eb8\"}\n",
    "\n",
    "df.hvplot.scatter(\n",
    "    x=\"long\", \n",
    "    y=\"lat\", \n",
    "    aggregator=datashader.by(\"journey_type\"), \n",
    "    datashade=True, \n",
    "    cnorm=\"eq_hist\",\n",
    "    width=700,\n",
    "    aspect=1.33, \n",
    "    color_key=color_key\n",
    ")"
   ]
  }
 ],
 "metadata": {
  "kernelspec": {
   "display_name": "Python 3 (ipykernel)",
   "language": "python",
   "name": "python3"
  },
  "language_info": {
   "codemirror_mode": {
    "name": "ipython",
    "version": 3
   },
   "file_extension": ".py",
   "mimetype": "text/x-python",
   "name": "python",
   "nbconvert_exporter": "python",
   "pygments_lexer": "ipython3",
   "version": "3.10.0"
  }
 },
 "nbformat": 4,
 "nbformat_minor": 5
}
